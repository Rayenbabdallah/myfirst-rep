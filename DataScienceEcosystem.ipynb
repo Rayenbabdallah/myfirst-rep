{
 "cells": [
  {
   "cell_type": "markdown",
   "id": "726d1346-95a8-4311-809b-31b432c942ed",
   "metadata": {},
   "source": [
    "# Data Science Tools and Ecosystem"
   ]
  },
  {
   "cell_type": "markdown",
   "id": "bfb9cf82-34d0-4f8a-9814-68d7a28e412d",
   "metadata": {},
   "source": [
    "## In this notebook, Data Science Tools and Ecosystem are summarized."
   ]
  },
  {
   "cell_type": "markdown",
   "id": "6e647867-d9d7-44ce-975a-8920c1184e5c",
   "metadata": {},
   "source": [
    "### Some of the popular languages that Data Scientists use are:"
   ]
  },
  {
   "cell_type": "markdown",
   "id": "51492ecb-39d7-48bc-b7f3-23b4ab5b7523",
   "metadata": {},
   "source": [
    "1. Python\n",
    "2. R\n",
    "3. Java\n",
    "4. SQL"
   ]
  },
  {
   "cell_type": "markdown",
   "id": "d332d53c-9f91-4ba3-a4a9-bc752218e28e",
   "metadata": {},
   "source": [
    "### Some of the commonly used libraries used by Data Scientists include:\n",
    "1. Numpy\r",
    "2. Pandas\n",
    "3. Ggplot2\n",
    "4.  PlotlySQL"
   ]
  },
  {
   "cell_type": "markdown",
   "id": "7441f7bf-6beb-4c44-b77e-9477bd77cf4e",
   "metadata": {},
   "source": [
    "| Data Science Tools |\n",
    "| --- |\n",
    "| Git |\n",
    "| Github |\n",
    "| Jupyter Notebook |\n",
    "| TensorFlow |\n",
    "| Cassandra |\n",
    "| MySQL |"
   ]
  },
  {
   "cell_type": "markdown",
   "id": "cb2d480d-e01d-465f-abfe-71fd90557846",
   "metadata": {},
   "source": [
    "### Below are a few examples of evaluating arithmetic expressions in Python:"
   ]
  },
  {
   "cell_type": "code",
   "execution_count": 1,
   "id": "c33150ae-b762-4c95-a697-40aad2e46f0a",
   "metadata": {},
   "outputs": [
    {
     "data": {
      "text/plain": [
       "17"
      ]
     },
     "execution_count": 1,
     "metadata": {},
     "output_type": "execute_result"
    }
   ],
   "source": [
    "# This a simple arithmetic expression to mutiply then add integers\n",
    "(3*4)+5"
   ]
  },
  {
   "cell_type": "code",
   "execution_count": 2,
   "id": "522f860d-01be-4e48-92e2-9acef7966cd9",
   "metadata": {},
   "outputs": [
    {
     "name": "stdout",
     "output_type": "stream",
     "text": [
      "200 minutes are 3 hours and 20 minutes\n"
     ]
    }
   ],
   "source": [
    "# This will convert 200 minutes to hours by diving by 60\n",
    "print(\"200 minutes are\",str(200//60),\"hours and\",str(200%60),\"minutes\")"
   ]
  },
  {
   "cell_type": "markdown",
   "id": "c1b187d4-8dfb-4e20-bd6d-50af210a5f26",
   "metadata": {},
   "source": [
    "__Objectives:__\n",
    "* List popular languages for Data Science\n",
    "* List data science tools\n",
    "* Evaluate arithmetic expressions in Python"
   ]
  },
  {
   "cell_type": "markdown",
   "id": "a569c1d3-b229-4b23-aca3-52ada5e1792e",
   "metadata": {},
   "source": [
    "## Author\n",
    "Rayen Ben Abdallah"
   ]
  }
 ],
 "metadata": {
  "kernelspec": {
   "display_name": "Python 3 (ipykernel)",
   "language": "python",
   "name": "python3"
  },
  "language_info": {
   "codemirror_mode": {
    "name": "ipython",
    "version": 3
   },
   "file_extension": ".py",
   "mimetype": "text/x-python",
   "name": "python",
   "nbconvert_exporter": "python",
   "pygments_lexer": "ipython3",
   "version": "3.12.4"
  }
 },
 "nbformat": 4,
 "nbformat_minor": 5
}
